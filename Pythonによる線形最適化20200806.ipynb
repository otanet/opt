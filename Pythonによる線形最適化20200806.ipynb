{
  "nbformat": 4,
  "nbformat_minor": 0,
  "metadata": {
    "colab": {
      "name": "Pythonによる線形最適化20200806",
      "provenance": [],
      "collapsed_sections": [],
      "authorship_tag": "ABX9TyNUPlkmCcBP0yNr1zkfs+ls",
      "include_colab_link": true
    },
    "kernelspec": {
      "name": "python3",
      "display_name": "Python 3"
    }
  },
  "cells": [
    {
      "cell_type": "markdown",
      "metadata": {
        "id": "view-in-github",
        "colab_type": "text"
      },
      "source": [
        "<a href=\"https://colab.research.google.com/github/otanet/opt/blob/master/Python%E3%81%AB%E3%82%88%E3%82%8B%E7%B7%9A%E5%BD%A2%E6%9C%80%E9%81%A9%E5%8C%9620200806.ipynb\" target=\"_parent\"><img src=\"https://colab.research.google.com/assets/colab-badge.svg\" alt=\"Open In Colab\"/></a>"
      ]
    },
    {
      "cell_type": "code",
      "metadata": {
        "id": "7kCcbu4XwwAB",
        "colab_type": "code",
        "colab": {
          "base_uri": "https://localhost:8080/",
          "height": 316
        },
        "outputId": "ef35979b-685c-4906-f51d-499cceebe5e0"
      },
      "source": [
        "!pip install -U pulp"
      ],
      "execution_count": null,
      "outputs": [
        {
          "output_type": "stream",
          "text": [
            "Collecting pulp\n",
            "\u001b[?25l  Downloading https://files.pythonhosted.org/packages/c3/22/5743d7b5d69f84fb63a0b4925862522dbf80e82defcd0c447afb694f3fd0/PuLP-2.3-py3-none-any.whl (40.6MB)\n",
            "\u001b[K     |████████████████████████████████| 40.6MB 109kB/s \n",
            "\u001b[?25hCollecting amply>=0.1.2\n",
            "  Downloading https://files.pythonhosted.org/packages/7f/11/33cb09557ac838d9488779b79e05a2a3c1f3ce9747cd242ba68332736778/amply-0.1.2.tar.gz\n",
            "  Installing build dependencies ... \u001b[?25l\u001b[?25hdone\n",
            "  Getting requirements to build wheel ... \u001b[?25l\u001b[?25hdone\n",
            "    Preparing wheel metadata ... \u001b[?25l\u001b[?25hdone\n",
            "Requirement already satisfied, skipping upgrade: docutils>=0.3 in /usr/local/lib/python3.6/dist-packages (from amply>=0.1.2->pulp) (0.15.2)\n",
            "Requirement already satisfied, skipping upgrade: pyparsing in /usr/local/lib/python3.6/dist-packages (from amply>=0.1.2->pulp) (2.4.7)\n",
            "Building wheels for collected packages: amply\n",
            "  Building wheel for amply (PEP 517) ... \u001b[?25l\u001b[?25hdone\n",
            "  Created wheel for amply: filename=amply-0.1.2-cp36-none-any.whl size=16572 sha256=05cdc71e9bad9c3158e1775d5cdc98b619939b86afcb79c89eb42f85c3649ac4\n",
            "  Stored in directory: /root/.cache/pip/wheels/84/18/f7/e5c3ed13ed5bb721763f77d4a924331d59ef115ce61c9d26eb\n",
            "Successfully built amply\n",
            "Installing collected packages: amply, pulp\n",
            "Successfully installed amply-0.1.2 pulp-2.3\n"
          ],
          "name": "stdout"
        }
      ]
    },
    {
      "cell_type": "code",
      "metadata": {
        "id": "rNIrD8FF1hTw",
        "colab_type": "code",
        "colab": {}
      },
      "source": [
        "from pulp import *"
      ],
      "execution_count": null,
      "outputs": []
    },
    {
      "cell_type": "code",
      "metadata": {
        "id": "LMkG9SQF2pDc",
        "colab_type": "code",
        "colab": {
          "base_uri": "https://localhost:8080/",
          "height": 281
        },
        "outputId": "06bd5e09-97c1-4445-80c8-701b81995bf6"
      },
      "source": [
        "prob = LpProblem(name='LP-Sample' , sense=LpMaximize)\n",
        "\n",
        "x1 = LpVariable('x1' , lowBound=0.0)\n",
        "x2 = LpVariable('x2' , lowBound=0.0)\n",
        "\n",
        "prob += 2*x1 + 3*x2   #目的関数の設定\n",
        "prob += x1 + 3*x2 <= 9, 'ineq1'\n",
        "prob += x1 + x2 <= 4, 'ineq2'\n",
        "prob += x1 + x2 <= 10, 'ineq3'\n",
        "\n",
        "print(prob)  #問題を出力\n",
        "prob.solve()  #求解\n"
      ],
      "execution_count": null,
      "outputs": [
        {
          "output_type": "stream",
          "text": [
            "LP-Sample:\n",
            "MAXIMIZE\n",
            "2*x1 + 3*x2 + 0\n",
            "SUBJECT TO\n",
            "ineq1: x1 + 3 x2 <= 9\n",
            "\n",
            "ineq2: x1 + x2 <= 4\n",
            "\n",
            "ineq3: x1 + x2 <= 10\n",
            "\n",
            "VARIABLES\n",
            "x1 Continuous\n",
            "x2 Continuous\n",
            "\n"
          ],
          "name": "stdout"
        },
        {
          "output_type": "execute_result",
          "data": {
            "text/plain": [
              "1"
            ]
          },
          "metadata": {
            "tags": []
          },
          "execution_count": 4
        }
      ]
    },
    {
      "cell_type": "code",
      "metadata": {
        "id": "Pw_M6omj4kN9",
        "colab_type": "code",
        "colab": {
          "base_uri": "https://localhost:8080/",
          "height": 87
        },
        "outputId": "29c95fb1-8a6e-4a36-ea03-63d474f718af"
      },
      "source": [
        "# 結果を表示する\n",
        "print(LpStatus[prob.status])\n",
        "print('Optimal value =', value(prob.objective))\n",
        "for v in prob.variables():\n",
        "    print(v.name,'=', value(v))"
      ],
      "execution_count": null,
      "outputs": [
        {
          "output_type": "stream",
          "text": [
            "Optimal\n",
            "Optimal value = 10.5\n",
            "x1 = 1.5\n",
            "x2 = 2.5\n"
          ],
          "name": "stdout"
        }
      ]
    },
    {
      "cell_type": "markdown",
      "metadata": {
        "id": "EtDbRZTM506z",
        "colab_type": "text"
      },
      "source": [
        "### 生産計画問題(Production Product Problem)　2.1 P21\n",
        "\n",
        "```\n",
        "# これはコードとして書式設定されます\n",
        "```\n",
        "\n"
      ]
    },
    {
      "cell_type": "code",
      "metadata": {
        "id": "2_crv8SK5nTK",
        "colab_type": "code",
        "colab": {
          "base_uri": "https://localhost:8080/",
          "height": 531
        },
        "outputId": "370f3bcc-368f-4b0a-e3a8-f9ad1be19781"
      },
      "source": [
        "!pip install -U pulp\n",
        "!pip install -U numpy as np"
      ],
      "execution_count": null,
      "outputs": [
        {
          "output_type": "stream",
          "text": [
            "Requirement already up-to-date: pulp in /usr/local/lib/python3.6/dist-packages (2.3)\n",
            "Requirement already satisfied, skipping upgrade: amply>=0.1.2 in /usr/local/lib/python3.6/dist-packages (from pulp) (0.1.2)\n",
            "Requirement already satisfied, skipping upgrade: pyparsing in /usr/local/lib/python3.6/dist-packages (from amply>=0.1.2->pulp) (2.4.7)\n",
            "Requirement already satisfied, skipping upgrade: docutils>=0.3 in /usr/local/lib/python3.6/dist-packages (from amply>=0.1.2->pulp) (0.15.2)\n",
            "Collecting numpy\n",
            "\u001b[?25l  Downloading https://files.pythonhosted.org/packages/b1/9a/7d474ba0860a41f771c9523d8c4ea56b084840b5ca4092d96bdee8a3b684/numpy-1.19.1-cp36-cp36m-manylinux2010_x86_64.whl (14.5MB)\n",
            "\u001b[K     |████████████████████████████████| 14.5MB 317kB/s \n",
            "\u001b[?25hCollecting as\n",
            "  Downloading https://files.pythonhosted.org/packages/b4/08/226c133ec497d25a63edb38527c02db093c7d89e6d4cdc91078834486a5d/as-0.1-py3-none-any.whl\n",
            "Collecting np\n",
            "  Downloading https://files.pythonhosted.org/packages/40/7d/749666e5a9976dcbc4d16d487bbe571efc6bbf4cdf3f4620c0ccc52b57ef/np-1.0.2.tar.gz\n",
            "Building wheels for collected packages: np\n",
            "  Building wheel for np (setup.py) ... \u001b[?25l\u001b[?25hdone\n",
            "  Created wheel for np: filename=np-1.0.2-cp36-none-any.whl size=13654 sha256=e43a206a2660e0ac4613204104eac7f70f4c1a13f5d3922f1f0b0b56d2ac71c3\n",
            "  Stored in directory: /root/.cache/pip/wheels/2b/df/57/f40bef951382112d9c644b3ec6d713ceb200ea7c15c074de42\n",
            "Successfully built np\n",
            "\u001b[31mERROR: tensorflow 2.3.0 has requirement numpy<1.19.0,>=1.16.0, but you'll have numpy 1.19.1 which is incompatible.\u001b[0m\n",
            "\u001b[31mERROR: datascience 0.10.6 has requirement folium==0.2.1, but you'll have folium 0.8.3 which is incompatible.\u001b[0m\n",
            "\u001b[31mERROR: albumentations 0.1.12 has requirement imgaug<0.2.7,>=0.2.5, but you'll have imgaug 0.2.9 which is incompatible.\u001b[0m\n",
            "Installing collected packages: numpy, as, np\n",
            "  Found existing installation: numpy 1.18.5\n",
            "    Uninstalling numpy-1.18.5:\n",
            "      Successfully uninstalled numpy-1.18.5\n",
            "Successfully installed as-0.1 np-1.0.2 numpy-1.19.1\n"
          ],
          "name": "stdout"
        },
        {
          "output_type": "display_data",
          "data": {
            "application/vnd.colab-display-data+json": {
              "pip_warning": {
                "packages": [
                  "numpy"
                ]
              }
            }
          },
          "metadata": {
            "tags": []
          }
        }
      ]
    },
    {
      "cell_type": "code",
      "metadata": {
        "id": "TOszdJCO6knk",
        "colab_type": "code",
        "colab": {}
      },
      "source": [
        "from pulp import *\n",
        "import numpy as np\n"
      ],
      "execution_count": null,
      "outputs": []
    },
    {
      "cell_type": "code",
      "metadata": {
        "id": "IbggGgMR7FjH",
        "colab_type": "code",
        "colab": {
          "base_uri": "https://localhost:8080/",
          "height": 351
        },
        "outputId": "51b1e127-60db-47aa-8ab8-2f77cce55d64"
      },
      "source": [
        "A = np.array([[3,1,2], [1,3,0], [0,2,4]])\n",
        "c = np.array([150, 200, 300])\n",
        "b = np.array([60, 36, 48])\n",
        "(m, n) = A.shape  #Aの行数、nはAの列数\n",
        "prob = LpProblem(name='production', sense=LpMaximize)\n",
        "x = [LpVariable('x'+str(i+1), lowBound=0) for i in range(n)]\n",
        "prob += lpDot(c, x)\n",
        "for i in range(m):\n",
        "    prob += lpDot(A[i],x) <= b[i], 'ineq' +str(i)\n",
        "print(prob)\n",
        "prob.solve()\n",
        "print('Optimal value=', value(prob.objective))\n",
        "for v in prob.variables():\n",
        "    print(v.name, '=', v.varValue)"
      ],
      "execution_count": null,
      "outputs": [
        {
          "output_type": "stream",
          "text": [
            "production:\n",
            "MAXIMIZE\n",
            "150*x1 + 200*x2 + 300*x3 + 0\n",
            "SUBJECT TO\n",
            "ineq0: 3 x1 + x2 + 2 x3 <= 60\n",
            "\n",
            "ineq1: x1 + 3 x2 <= 36\n",
            "\n",
            "ineq2: 2 x2 + 4 x3 <= 48\n",
            "\n",
            "VARIABLES\n",
            "x1 Continuous\n",
            "x2 Continuous\n",
            "x3 Continuous\n",
            "\n",
            "Optimal value= 5800.0\n",
            "x1 = 12.0\n",
            "x2 = 8.0\n",
            "x3 = 8.0\n"
          ],
          "name": "stdout"
        }
      ]
    },
    {
      "cell_type": "markdown",
      "metadata": {
        "id": "DZ4GVzYd9oVY",
        "colab_type": "text"
      },
      "source": [
        "### 最適解(x1*, x2*, x3* ) = ( 12.0, 8.0, 8.0) \n",
        "### 最適値5800\n",
        "### 上記が得られた。"
      ]
    },
    {
      "cell_type": "markdown",
      "metadata": {
        "id": "aTtWW68R-PHA",
        "colab_type": "text"
      },
      "source": [
        "## 双対性　上記の最適解は信じられるか"
      ]
    },
    {
      "cell_type": "code",
      "metadata": {
        "id": "0K6m5R4N9B3C",
        "colab_type": "code",
        "colab": {
          "base_uri": "https://localhost:8080/",
          "height": 34
        },
        "outputId": "85886a8e-68f4-4c42-8636-e491b435c59a"
      },
      "source": [
        "X = np.array([v.varValue for v in prob.variables()])\n",
        "np.all(np.abs(b - np.dot(A, X))) <= 1.0e-5"
      ],
      "execution_count": null,
      "outputs": [
        {
          "output_type": "execute_result",
          "data": {
            "text/plain": [
              "True"
            ]
          },
          "metadata": {
            "tags": []
          },
          "execution_count": 16
        }
      ]
    },
    {
      "cell_type": "markdown",
      "metadata": {
        "id": "2_LK4aY_-77u",
        "colab_type": "text"
      },
      "source": [
        "### 最大化の線形計画最適化問題の双対問題(dual problem)とは、最適値の上界を最小化する問題である．\n",
        "\n",
        "### また、双対問題は2回とると、元に戻る。つまり、双対問題の双対問題は元の問題である。\n"
      ]
    },
    {
      "cell_type": "code",
      "metadata": {
        "id": "l9137-Xm-xuq",
        "colab_type": "code",
        "colab": {}
      },
      "source": [
        ""
      ],
      "execution_count": null,
      "outputs": []
    }
  ]
}